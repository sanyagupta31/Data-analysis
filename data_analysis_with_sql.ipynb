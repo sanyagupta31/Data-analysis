{
  "nbformat": 4,
  "nbformat_minor": 0,
  "metadata": {
    "colab": {
      "provenance": [],
      "authorship_tag": "ABX9TyM3iBkKPcWzLYWNpaMFHdmb",
      "include_colab_link": true
    },
    "kernelspec": {
      "name": "python3",
      "display_name": "Python 3"
    },
    "language_info": {
      "name": "python"
    }
  },
  "cells": [
    {
      "cell_type": "markdown",
      "metadata": {
        "id": "view-in-github",
        "colab_type": "text"
      },
      "source": [
        "<a href=\"https://colab.research.google.com/github/sanyagupta31/Data-analysis/blob/main/data_analysis_with_sql.ipynb\" target=\"_parent\"><img src=\"https://colab.research.google.com/assets/colab-badge.svg\" alt=\"Open In Colab\"/></a>"
      ]
    },
    {
      "cell_type": "code",
      "execution_count": 2,
      "metadata": {
        "id": "jikFkH7wyTLy"
      },
      "outputs": [],
      "source": [
        "import sqlite3\n"
      ]
    },
    {
      "cell_type": "code",
      "source": [
        "import zipfile\n",
        "import os\n",
        "\n",
        "# Path to the zip file\n",
        "zip_file_path = '/content/database.sqlite.zip'\n",
        "extracted_folder_path = '/content/'\n",
        "\n",
        "# Extract the ZIP file\n",
        "with zipfile.ZipFile(zip_file_path, 'r') as zip_ref:\n",
        "    zip_ref.extractall(extracted_folder_path)\n",
        "\n",
        "# Check if extraction was successful\n",
        "print(\"Extracted files:\", os.listdir(extracted_folder_path))\n"
      ],
      "metadata": {
        "colab": {
          "base_uri": "https://localhost:8080/"
        },
        "id": "WDN49HWC1597",
        "outputId": "7cc2714a-1fbb-4301-d942-888f911a83db"
      },
      "execution_count": 7,
      "outputs": [
        {
          "output_type": "stream",
          "name": "stdout",
          "text": [
            "Extracted files: ['.config', 'database.sqlite', 'database.sqlite.zip', 'sample_data']\n"
          ]
        }
      ]
    },
    {
      "cell_type": "code",
      "source": [
        "\n",
        "database_file = '/content/database.sqlite'\n",
        "\n",
        "# Connect to the extracted SQLite database\n",
        "conn = sqlite3.connect(database_file)\n",
        "cursor = conn.cursor()\n",
        "\n",
        "# Query to list all tables\n",
        "cursor.execute(\"SELECT name FROM sqlite_master WHERE type='table';\")\n",
        "tables = cursor.fetchall()\n",
        "\n",
        "print(\"Tables in the database:\")\n",
        "for table in tables:\n",
        "    print(table[0])\n",
        "\n",
        "# Close the connection\n",
        "conn.close()\n"
      ],
      "metadata": {
        "colab": {
          "base_uri": "https://localhost:8080/"
        },
        "id": "e-6gygbb1-DX",
        "outputId": "005c28ec-f62d-46ab-81fa-43464ee38f53"
      },
      "execution_count": 8,
      "outputs": [
        {
          "output_type": "stream",
          "name": "stdout",
          "text": [
            "Tables in the database:\n",
            "sqlite_sequence\n",
            "Player_Attributes\n",
            "Player\n",
            "Match\n",
            "League\n",
            "Country\n",
            "Team\n",
            "Team_Attributes\n"
          ]
        }
      ]
    },
    {
      "cell_type": "code",
      "source": [
        "database_file = '/content/database.sqlite'\n",
        "\n",
        "# Connect to the extracted SQLite database\n",
        "conn = sqlite3.connect(database_file)\n",
        "cursor = conn.cursor()\n",
        "\n",
        "# Query to list all tables\n",
        "cursor.execute(\"SELECT name FROM sqlite_master WHERE type='table';\")\n",
        "tables = cursor.fetchall()\n",
        "\n",
        "print(\"Tables in the database:\")\n",
        "for table in tables:\n",
        "    print(table[0])\n",
        "\n",
        "# Keep the connection open while executing queries\n",
        "# Removed: conn.close()\n",
        "\n",
        "cursor.execute(\"SELECT * FROM Player LIMIT 10;\")\n",
        "players=cursor.fetchall()\n",
        "print(\"first 10 players:\")\n",
        "for player in players:\n",
        "    print(player)\n",
        "\n",
        "# Now close the connection after all operations are complete\n",
        "conn.close()"
      ],
      "metadata": {
        "colab": {
          "base_uri": "https://localhost:8080/"
        },
        "id": "WILJ_J_-2Hxf",
        "outputId": "257ac6e0-b3a2-4dc5-94a8-34bf92370611"
      },
      "execution_count": 10,
      "outputs": [
        {
          "output_type": "stream",
          "name": "stdout",
          "text": [
            "Tables in the database:\n",
            "sqlite_sequence\n",
            "Player_Attributes\n",
            "Player\n",
            "Match\n",
            "League\n",
            "Country\n",
            "Team\n",
            "Team_Attributes\n",
            "first 10 players:\n",
            "(1, 505942, 'Aaron Appindangoye', 218353, '1992-02-29 00:00:00', 182.88, 187)\n",
            "(2, 155782, 'Aaron Cresswell', 189615, '1989-12-15 00:00:00', 170.18, 146)\n",
            "(3, 162549, 'Aaron Doran', 186170, '1991-05-13 00:00:00', 170.18, 163)\n",
            "(4, 30572, 'Aaron Galindo', 140161, '1982-05-08 00:00:00', 182.88, 198)\n",
            "(5, 23780, 'Aaron Hughes', 17725, '1979-11-08 00:00:00', 182.88, 154)\n",
            "(6, 27316, 'Aaron Hunt', 158138, '1986-09-04 00:00:00', 182.88, 161)\n",
            "(7, 564793, 'Aaron Kuhl', 221280, '1996-01-30 00:00:00', 172.72, 146)\n",
            "(8, 30895, 'Aaron Lennon', 152747, '1987-04-16 00:00:00', 165.1, 139)\n",
            "(9, 528212, 'Aaron Lennox', 206592, '1993-02-19 00:00:00', 190.5, 181)\n",
            "(10, 101042, 'Aaron Meijers', 188621, '1987-10-28 00:00:00', 175.26, 170)\n"
          ]
        }
      ]
    },
    {
      "cell_type": "code",
      "source": [
        "# Query: Get the first 10 teams from the Team table\n",
        "database_file = '/content/database.sqlite'\n",
        "\n",
        "# Connect to the extracted SQLite database\n",
        "conn = sqlite3.connect(database_file)\n",
        "cursor = conn.cursor()\n",
        "cursor.execute(\"SELECT * FROM Team LIMIT 10;\")\n",
        "teams = cursor.fetchall()\n",
        "\n",
        "print(\"First 10 Teams:\")\n",
        "for team in teams:\n",
        "    print(team)\n",
        "conn.close()"
      ],
      "metadata": {
        "colab": {
          "base_uri": "https://localhost:8080/"
        },
        "id": "ENy853vA2x0W",
        "outputId": "86865213-e2b8-45e5-9d60-3005686f4538"
      },
      "execution_count": 13,
      "outputs": [
        {
          "output_type": "stream",
          "name": "stdout",
          "text": [
            "First 10 Teams:\n",
            "(1, 9987, 673, 'KRC Genk', 'GEN')\n",
            "(2, 9993, 675, 'Beerschot AC', 'BAC')\n",
            "(3, 10000, 15005, 'SV Zulte-Waregem', 'ZUL')\n",
            "(4, 9994, 2007, 'Sporting Lokeren', 'LOK')\n",
            "(5, 9984, 1750, 'KSV Cercle Brugge', 'CEB')\n",
            "(6, 8635, 229, 'RSC Anderlecht', 'AND')\n",
            "(7, 9991, 674, 'KAA Gent', 'GEN')\n",
            "(8, 9998, 1747, 'RAEC Mons', 'MON')\n",
            "(9, 7947, None, 'FCV Dender EH', 'DEN')\n",
            "(10, 9985, 232, 'Standard de Liège', 'STL')\n"
          ]
        }
      ]
    },
    {
      "cell_type": "code",
      "source": [
        "# Query: Get the first 10 teams from the Team table\n",
        "database_file = '/content/database.sqlite'\n",
        "\n",
        "# Connect to the extracted SQLite database\n",
        "conn = sqlite3.connect(database_file)\n",
        "cursor = conn.cursor()\n",
        "# Query: Get the first 10 matches from the Match table\n",
        "cursor.execute(\"SELECT * FROM Match LIMIT 10;\")\n",
        "matches = cursor.fetchall()\n",
        "\n",
        "print(\"First 10 Matches:\")\n",
        "for match in matches:\n",
        "    print(match)\n",
        "conn.close()"
      ],
      "metadata": {
        "colab": {
          "base_uri": "https://localhost:8080/"
        },
        "id": "KleJaK5x3BsO",
        "outputId": "2e687404-d05a-43db-a973-1d93a4f9d4b2"
      },
      "execution_count": 14,
      "outputs": [
        {
          "output_type": "stream",
          "name": "stdout",
          "text": [
            "First 10 Matches:\n",
            "(1, 1, 1, '2008/2009', 1, '2008-08-17 00:00:00', 492473, 9987, 9993, 1, 1, None, None, None, None, None, None, None, None, None, None, None, None, None, None, None, None, None, None, None, None, None, None, None, None, None, None, None, None, None, None, None, None, None, None, None, None, None, None, None, None, None, None, None, None, None, None, None, None, None, None, None, None, None, None, None, None, None, None, None, None, None, None, None, None, None, None, None, None, None, None, None, None, None, None, 1.73, 3.4, 5, 1.75, 3.35, 4.2, 1.85, 3.2, 3.5, 1.8, 3.3, 3.75, None, None, None, 1.7, 3.3, 4.33, 1.9, 3.3, 4, 1.65, 3.4, 4.5, 1.78, 3.25, 4, 1.73, 3.4, 4.2)\n",
            "(2, 1, 1, '2008/2009', 1, '2008-08-16 00:00:00', 492474, 10000, 9994, 0, 0, None, None, None, None, None, None, None, None, None, None, None, None, None, None, None, None, None, None, None, None, None, None, None, None, None, None, None, None, None, None, None, None, None, None, None, None, None, None, None, None, None, None, None, None, None, None, None, None, None, None, None, None, None, None, None, None, None, None, None, None, None, None, None, None, None, None, None, None, None, None, None, None, None, None, 1.95, 3.2, 3.6, 1.8, 3.3, 3.95, 1.9, 3.2, 3.5, 1.9, 3.2, 3.5, None, None, None, 1.83, 3.3, 3.6, 1.95, 3.3, 3.8, 2, 3.25, 3.25, 1.85, 3.25, 3.75, 1.91, 3.25, 3.6)\n",
            "(3, 1, 1, '2008/2009', 1, '2008-08-16 00:00:00', 492475, 9984, 8635, 0, 3, None, None, None, None, None, None, None, None, None, None, None, None, None, None, None, None, None, None, None, None, None, None, None, None, None, None, None, None, None, None, None, None, None, None, None, None, None, None, None, None, None, None, None, None, None, None, None, None, None, None, None, None, None, None, None, None, None, None, None, None, None, None, None, None, None, None, None, None, None, None, None, None, None, None, 2.38, 3.3, 2.75, 2.4, 3.3, 2.55, 2.6, 3.1, 2.3, 2.5, 3.2, 2.5, None, None, None, 2.5, 3.25, 2.4, 2.63, 3.3, 2.5, 2.35, 3.25, 2.65, 2.5, 3.2, 2.5, 2.3, 3.2, 2.75)\n",
            "(4, 1, 1, '2008/2009', 1, '2008-08-17 00:00:00', 492476, 9991, 9998, 5, 0, None, None, None, None, None, None, None, None, None, None, None, None, None, None, None, None, None, None, None, None, None, None, None, None, None, None, None, None, None, None, None, None, None, None, None, None, None, None, None, None, None, None, None, None, None, None, None, None, None, None, None, None, None, None, None, None, None, None, None, None, None, None, None, None, None, None, None, None, None, None, None, None, None, None, 1.44, 3.75, 7.5, 1.4, 4, 6.8, 1.4, 3.9, 6, 1.44, 3.6, 6.5, None, None, None, 1.44, 3.75, 6, 1.44, 4, 7.5, 1.45, 3.75, 6.5, 1.5, 3.75, 5.5, 1.44, 3.75, 6.5)\n",
            "(5, 1, 1, '2008/2009', 1, '2008-08-16 00:00:00', 492477, 7947, 9985, 1, 3, None, None, None, None, None, None, None, None, None, None, None, None, None, None, None, None, None, None, None, None, None, None, None, None, None, None, None, None, None, None, None, None, None, None, None, None, None, None, None, None, None, None, None, None, None, None, None, None, None, None, None, None, None, None, None, None, None, None, None, None, None, None, None, None, None, None, None, None, None, None, None, None, None, None, 5, 3.5, 1.65, 5, 3.5, 1.6, 4, 3.3, 1.7, 4, 3.4, 1.72, None, None, None, 4.2, 3.4, 1.7, 4.5, 3.5, 1.73, 4.5, 3.4, 1.65, 4.5, 3.5, 1.65, 4.75, 3.3, 1.67)\n",
            "(6, 1, 1, '2008/2009', 1, '2008-09-24 00:00:00', 492478, 8203, 8342, 1, 1, None, None, None, None, None, None, None, None, None, None, None, None, None, None, None, None, None, None, None, None, None, None, None, None, None, None, None, None, None, None, None, None, None, None, None, None, None, None, None, None, None, None, None, None, None, None, None, None, None, None, None, None, None, None, None, None, None, None, None, None, None, None, None, None, None, None, None, None, None, None, None, None, None, None, 4.75, 3.4, 1.67, 4.85, 3.4, 1.65, 3.7, 3.2, 1.8, 5, 3.25, 1.62, None, None, None, 4.2, 3.4, 1.7, 5.5, 3.75, 1.67, 4.35, 3.4, 1.7, 4.5, 3.4, 1.7, None, None, None)\n",
            "(7, 1, 1, '2008/2009', 1, '2008-08-16 00:00:00', 492479, 9999, 8571, 2, 2, None, None, None, None, None, None, None, None, None, None, None, None, None, None, None, None, None, None, None, None, None, None, None, None, None, None, None, None, None, None, None, None, None, None, None, None, None, None, None, None, None, None, None, None, None, None, None, None, None, None, None, None, None, None, None, None, None, None, None, None, None, None, None, None, None, None, None, None, None, None, None, None, None, None, 2.1, 3.2, 3.3, 2.05, 3.25, 3.15, 1.85, 3.2, 3.5, 1.83, 3.3, 3.6, None, None, None, 1.83, 3.3, 3.6, 1.91, 3.4, 3.6, 2.1, 3.25, 3, 1.85, 3.25, 3.75, 2.1, 3.25, 3.1)\n",
            "(8, 1, 1, '2008/2009', 1, '2008-08-16 00:00:00', 492480, 4049, 9996, 1, 2, None, None, None, None, None, None, None, None, None, None, None, None, None, None, None, None, None, None, None, None, None, None, None, None, None, None, None, None, None, None, None, None, None, None, None, None, None, None, None, None, None, None, None, None, None, None, None, None, None, None, None, None, None, None, None, None, None, None, None, None, None, None, None, None, None, None, None, None, None, None, None, None, None, None, 3.2, 3.4, 2.2, 2.55, 3.3, 2.4, 2.4, 3.2, 2.4, 2.5, 3.2, 2.5, None, None, None, 2.7, 3.25, 2.25, 2.6, 3.4, 2.4, 2.8, 3.25, 2.25, 2.8, 3.2, 2.25, 2.88, 3.25, 2.2)\n",
            "(9, 1, 1, '2008/2009', 1, '2008-08-16 00:00:00', 492481, 10001, 9986, 1, 0, None, None, None, None, None, None, None, None, None, None, None, None, None, None, None, None, None, None, None, None, None, None, None, None, None, None, None, None, None, None, None, None, None, None, None, None, None, None, None, None, None, None, None, None, None, None, None, None, None, None, None, None, None, None, None, None, None, None, None, None, None, None, None, None, None, None, None, None, None, None, None, None, None, None, 2.25, 3.25, 2.88, 2.3, 3.25, 2.7, 2.1, 3.1, 3, 2.25, 3.2, 2.75, None, None, None, 2.2, 3.25, 2.75, 2.2, 3.3, 3.1, 2.25, 3.25, 2.8, 2.2, 3.3, 2.8, 2.25, 3.2, 2.8)\n",
            "(10, 1, 1, '2008/2009', 10, '2008-11-01 00:00:00', 492564, 8342, 8571, 4, 1, None, None, None, None, None, None, None, None, None, None, None, None, None, None, None, None, None, None, None, None, None, None, None, None, None, None, None, None, None, None, None, None, None, None, None, None, None, None, None, None, None, None, None, None, None, None, None, None, None, None, None, None, None, None, None, None, None, None, None, None, None, None, None, None, None, None, None, None, None, None, None, None, None, None, 1.3, 5.25, 9.5, 1.25, 5, 10, 1.3, 4.2, 8, 1.25, 4.5, 10, None, None, None, 1.35, 4.2, 7, 1.27, 5, 10, 1.3, 4.35, 8.5, 1.25, 5, 10, 1.29, 4.5, 9)\n"
          ]
        }
      ]
    },
    {
      "cell_type": "code",
      "source": [
        "# Query: Get the first 10 teams from the Team table\n",
        "database_file = '/content/database.sqlite'\n",
        "\n",
        "# Connect to the extracted SQLite database\n",
        "conn = sqlite3.connect(database_file)\n",
        "cursor = conn.cursor()\n",
        "# Query: Get the first 10 leagues from the League table\n",
        "cursor.execute(\"SELECT * FROM League LIMIT 10;\")\n",
        "leagues = cursor.fetchall()\n",
        "\n",
        "print(\"First 10 Leagues:\")\n",
        "for league in leagues:\n",
        "    print(league)\n",
        "conn.close()"
      ],
      "metadata": {
        "colab": {
          "base_uri": "https://localhost:8080/"
        },
        "id": "Pw10FxlB3MPv",
        "outputId": "6566584e-b23e-4ee0-b160-2e2fc01b2f12"
      },
      "execution_count": 15,
      "outputs": [
        {
          "output_type": "stream",
          "name": "stdout",
          "text": [
            "First 10 Leagues:\n",
            "(1, 1, 'Belgium Jupiler League')\n",
            "(1729, 1729, 'England Premier League')\n",
            "(4769, 4769, 'France Ligue 1')\n",
            "(7809, 7809, 'Germany 1. Bundesliga')\n",
            "(10257, 10257, 'Italy Serie A')\n",
            "(13274, 13274, 'Netherlands Eredivisie')\n",
            "(15722, 15722, 'Poland Ekstraklasa')\n",
            "(17642, 17642, 'Portugal Liga ZON Sagres')\n",
            "(19694, 19694, 'Scotland Premier League')\n",
            "(21518, 21518, 'Spain LIGA BBVA')\n"
          ]
        }
      ]
    },
    {
      "cell_type": "code",
      "source": [
        "# Query: Get the first 10 teams from the Team table\n",
        "database_file = '/content/database.sqlite'\n",
        "\n",
        "# Connect to the extracted SQLite database\n",
        "conn = sqlite3.connect(database_file)\n",
        "cursor = conn.cursor()\n",
        "# Query: Get the first 10 countries from the Country table\n",
        "cursor.execute(\"SELECT * FROM Country LIMIT 10;\")\n",
        "countries = cursor.fetchall()\n",
        "\n",
        "print(\"First 10 Countries:\")\n",
        "for country in countries:\n",
        "    print(country)\n",
        "conn.close()"
      ],
      "metadata": {
        "colab": {
          "base_uri": "https://localhost:8080/"
        },
        "id": "6x9JD0EF3TFA",
        "outputId": "2552622b-c89f-45a9-a6a5-f1a78e888700"
      },
      "execution_count": 16,
      "outputs": [
        {
          "output_type": "stream",
          "name": "stdout",
          "text": [
            "First 10 Countries:\n",
            "(1, 'Belgium')\n",
            "(1729, 'England')\n",
            "(4769, 'France')\n",
            "(7809, 'Germany')\n",
            "(10257, 'Italy')\n",
            "(13274, 'Netherlands')\n",
            "(15722, 'Poland')\n",
            "(17642, 'Portugal')\n",
            "(19694, 'Scotland')\n",
            "(21518, 'Spain')\n"
          ]
        }
      ]
    },
    {
      "cell_type": "code",
      "source": [
        "# Query: Get the player with the highest overall rating\n",
        "database_file = '/content/database.sqlite'\n",
        "\n",
        "# Connect to the extracted SQLite database\n",
        "conn = sqlite3.connect(database_file)\n",
        "cursor = conn.cursor()\n",
        "\n",
        "# Corrected Query: Use the correct column name 'id' instead of 'player_id'\n",
        "#                The 'id' column represents the player ID in Player_Attributes table.\n",
        "cursor.execute(\"\"\"\n",
        "    SELECT id, overall_rating\n",
        "    FROM Player_Attributes\n",
        "    ORDER BY overall_rating DESC\n",
        "    LIMIT 1;\n",
        "\"\"\")\n",
        "best_player = cursor.fetchone()\n",
        "print(f\"Player with the highest overall rating: Player ID: {best_player[0]}, Rating: {best_player[1]}\")\n",
        "conn.close()"
      ],
      "metadata": {
        "colab": {
          "base_uri": "https://localhost:8080/"
        },
        "id": "Vb-vKrS43bR_",
        "outputId": "76fca4c0-13a9-4bfd-9007-c4e3d8746b9b"
      },
      "execution_count": 19,
      "outputs": [
        {
          "output_type": "stream",
          "name": "stdout",
          "text": [
            "Player with the highest overall rating: Player ID: 102483, Rating: 94\n"
          ]
        }
      ]
    },
    {
      "cell_type": "code",
      "source": [
        "import matplotlib.pyplot as plt\n",
        "import seaborn as sns\n",
        "import sqlite3\n"
      ],
      "metadata": {
        "id": "UlqLJIf24XX7"
      },
      "execution_count": 20,
      "outputs": []
    },
    {
      "cell_type": "code",
      "source": [
        "import pandas as pd\n",
        "\n",
        "# Connect to the SQLite database\n",
        "conn = sqlite3.connect('/content/database.sqlite')\n",
        "cursor = conn.cursor()\n",
        "\n",
        "# Query to get player id and overall rating\n",
        "# Changed 'player_id' to 'id' in the SELECT statement\n",
        "cursor.execute(\"\"\"\n",
        "    SELECT id, overall_rating\n",
        "    FROM Player_Attributes\n",
        "    ORDER BY overall_rating DESC\n",
        "    LIMIT 10;\n",
        "\"\"\")\n",
        "\n",
        "# Fetch the data\n",
        "data = cursor.fetchall()\n",
        "\n",
        "# Convert data to pandas DataFrame\n",
        "# Changed 'Player_ID' to 'id' to match the query output\n",
        "df = pd.DataFrame(data, columns=['id', 'Overall_Rating'])\n",
        "\n",
        "# Close the connection\n",
        "conn.close()"
      ],
      "metadata": {
        "id": "57YYSWNQ4a8O"
      },
      "execution_count": 22,
      "outputs": []
    },
    {
      "cell_type": "code",
      "source": [
        "# Plotting the data\n",
        "plt.figure(figsize=(10, 6))\n",
        "\n",
        "sns.barplot(x='id', y='Overall_Rating', data=df, palette='viridis')\n",
        "\n",
        "# Add labels and title\n",
        "plt.title('Top 10 Players by Overall Rating')\n",
        "\n",
        "plt.xlabel('Player id')\n",
        "plt.ylabel('Overall Rating')\n",
        "\n",
        "# Show the plot\n",
        "plt.show()"
      ],
      "metadata": {
        "colab": {
          "base_uri": "https://localhost:8080/",
          "height": 603
        },
        "id": "iMMs7rnX4nzX",
        "outputId": "658dee9e-981c-4cb0-af2f-45a5f3e4b911"
      },
      "execution_count": 24,
      "outputs": [
        {
          "output_type": "stream",
          "name": "stderr",
          "text": [
            "<ipython-input-24-8b2e0337e21d>:4: FutureWarning: \n",
            "\n",
            "Passing `palette` without assigning `hue` is deprecated and will be removed in v0.14.0. Assign the `x` variable to `hue` and set `legend=False` for the same effect.\n",
            "\n",
            "  sns.barplot(x='id', y='Overall_Rating', data=df, palette='viridis')\n"
          ]
        },
        {
          "output_type": "display_data",
          "data": {
            "text/plain": [
              "<Figure size 1000x600 with 1 Axes>"
            ],
            "image/png": "[encoded data removed]"
          },
          "metadata": {}
        }
      ]
    },
    {
      "cell_type": "code",
      "source": [
        "# Example query to fetch player id, age, and overall rating\n",
        "# Establish a new connection to the database\n",
        "conn = sqlite3.connect('/content/database.sqlite')\n",
        "cursor = conn.cursor() # Create a new cursor object\n",
        "\n",
        "\n",
        "cursor.execute(\"\"\"\n",
        "    SELECT p.id, p.birthday, pa.overall_rating\n",
        "    FROM Player p\n",
        "    JOIN Player_Attributes pa ON p.id = pa.id\n",
        "    LIMIT 100;\n",
        "\"\"\")\n",
        "\n",
        "# Fetch the data\n",
        "data = cursor.fetchall()\n",
        "\n",
        "# Convert data to pandas DataFrame\n",
        "# Adjust column names to reflect changes in the query\n",
        "df = pd.DataFrame(data, columns=['Player_ID', 'Birthday', 'Overall_Rating'])\n",
        "\n",
        "# Plotting the data\n",
        "plt.figure(figsize=(10, 6))\n",
        "# Adjust the scatterplot to use the new column names if needed\n",
        "sns.scatterplot(x='Birthday', y='Overall_Rating', data=df, color='blue', s=100)\n",
        "\n",
        "# Add labels and title\n",
        "plt.title('Player Age vs Overall Rating')\n",
        "# Adjust the x-axis label if needed\n",
        "plt.xlabel('Birthday')\n",
        "plt.ylabel('Overall Rating')\n",
        "\n",
        "# Show the plot\n",
        "plt.show()\n",
        "\n",
        "# Close the connection when done\n",
        "conn.close()"
      ],
      "metadata": {
        "colab": {
          "base_uri": "https://localhost:8080/",
          "height": 471
        },
        "id": "xroiuHKe4zHF",
        "outputId": "833c1560-f400-4564-a5c6-7d24abe3d9ce"
      },
      "execution_count": 27,
      "outputs": [
        {
          "output_type": "display_data",
          "data": {
            "text/plain": [
              "<Figure size 1000x600 with 1 Axes>"
            ],
            "image/png": "[encoded data removed]"
          },
          "metadata": {}
        }
      ]
    }
  ]
}